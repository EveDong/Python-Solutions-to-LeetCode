{
 "cells": [
  {
   "cell_type": "markdown",
   "metadata": {},
   "source": [
    "# 155. Min Stack"
   ]
  },
  {
   "cell_type": "code",
   "execution_count": null,
   "metadata": {},
   "outputs": [],
   "source": [
    "# 当出现报错 XXX is not callable的时候，很有可能是你正在调用一个不能被调用的变量或对象，具体表现就是你调用函数、变量的方式错误。\n",
    "# 举例：if len(a) == len(b):#最终出现'int' object is not callable的错误\n",
    "# 说明在前面定义了一个len 同名的变量 如 len = len(\"hallo Jun\")\n",
    "class MinStack:\n",
    "    def __init__(self):\n",
    "        \"\"\"\n",
    "        initialize your data structure here.\n",
    "        \"\"\"\n",
    "        self.t = -1\n",
    "        self.data = []\n",
    "        self.min = {}\n",
    "\n",
    "    def push(self, x: int) -> None:\n",
    "        self.t += 1\n",
    "        self.data.append(x)\n",
    "        if self.t == 0:\n",
    "            self.min[self.t] = x\n",
    "        else:\n",
    "            if self.min[self.t - 1] > x:\n",
    "                self.min[self.t] = x\n",
    "            else:\n",
    "                self.min[self.t] = self.min[self.t - 1]\n",
    "\n",
    "    def pop(self) -> None:\n",
    "        if self.t == -1:\n",
    "            return\n",
    "        del self.data[self.t]\n",
    "        self.t -= 1\n",
    "\n",
    "    def top(self) -> int:\n",
    "        if self.t == -1:\n",
    "            return\n",
    "        return self.data[self.t]\n",
    "\n",
    "    def getMin(self) -> int:\n",
    "        if self.t == -1:\n",
    "            return\n",
    "        return self.min[self.t]\n",
    "\n",
    "\n",
    "# Your MinStack object will be instantiated and called as such:\n",
    "# obj = MinStack()\n",
    "# obj.push(x)\n",
    "# obj.pop()\n",
    "# param_3 = obj.top()\n",
    "# param_4 = obj.getMin()"
   ]
  },
  {
   "cell_type": "code",
   "execution_count": null,
   "metadata": {},
   "outputs": [],
   "source": [
    "class MinStack:\n",
    "\n",
    "    # 辅助栈和数据栈同步\n",
    "    # 思路简单不容易出错\n",
    "\n",
    "    def __init__(self):\n",
    "        # 数据栈\n",
    "        self.data = []\n",
    "        # 辅助栈\n",
    "        self.helper = []\n",
    "\n",
    "    def push(self, x):\n",
    "        self.data.append(x)\n",
    "        if len(self.helper) == 0 or x <= self.helper[-1]:\n",
    "            self.helper.append(x)\n",
    "        else:\n",
    "            self.helper.append(self.helper[-1])\n",
    "\n",
    "    def pop(self):\n",
    "        if self.data:\n",
    "            self.helper.pop()\n",
    "            return self.data.pop()\n",
    "\n",
    "    def top(self):\n",
    "        if self.data:\n",
    "            return self.data[-1]\n",
    "\n",
    "    def getMin(self):\n",
    "        if self.helper:\n",
    "            return self.helper[-1]\n",
    "\n",
    "\n",
    "# Your MinStack object will be instantiated and called as such:\n",
    "# obj = MinStack()\n",
    "# obj.push(x)\n",
    "# obj.pop()\n",
    "# param_3 = obj.top()\n",
    "# param_4 = obj.getMin()"
   ]
  },
  {
   "cell_type": "code",
   "execution_count": null,
   "metadata": {},
   "outputs": [],
   "source": [
    "class MinStack:\n",
    "\n",
    "    # 辅助栈和数据栈不同步\n",
    "    # 关键 1：辅助栈的元素空的时候，必须放入新进来的数\n",
    "    # 关键 2：新来的数小于或者等于辅助栈栈顶元素的时候，才放入（特别注意这里等于要考虑进去）\n",
    "    # 关键 3：出栈的时候，辅助栈的栈顶元素等于数据栈的栈顶元素，才出栈，即\"出栈保持同步\"就可以了\n",
    "\n",
    "    def __init__(self):\n",
    "        # 数据栈\n",
    "        self.data = []\n",
    "        # 辅助栈\n",
    "        self.helper = []  # 这里的helper本质上是一个非严格的单调栈\n",
    "\n",
    "    def push(self, x):\n",
    "        self.data.append(x)\n",
    "        # 关键 1 和关键 2\n",
    "        if len(self.helper) == 0 or x <= self.helper[-1]:  # <=\n",
    "            self.helper.append(x)\n",
    "\n",
    "    def pop(self):\n",
    "        # 关键 3：【注意】不论怎么样，数据栈都要 pop 出元素\n",
    "        if self.data:\n",
    "            top = self.data.pop()\n",
    "            if self.helper and top == self.helper[-1]:  # ==\n",
    "                self.helper.pop()\n",
    "            return top\n",
    "\n",
    "    def top(self):\n",
    "        if self.data:\n",
    "            return self.data[-1]\n",
    "\n",
    "    def getMin(self):\n",
    "        if self.helper:\n",
    "            return self.helper[-1]\n",
    "\n",
    "\n",
    "# Your MinStack object will be instantiated and called as such:\n",
    "# obj = MinStack()\n",
    "# obj.push(x)\n",
    "# obj.pop()\n",
    "# param_3 = obj.top()\n",
    "# param_4 = obj.getMin()"
   ]
  },
  {
   "cell_type": "markdown",
   "metadata": {},
   "source": [
    "成对出现"
   ]
  },
  {
   "cell_type": "markdown",
   "metadata": {},
   "source": [
    "# 20. Valid Parentheses"
   ]
  },
  {
   "cell_type": "code",
   "execution_count": null,
   "metadata": {},
   "outputs": [],
   "source": [
    "class Solution:\n",
    "    def isValid(self, s: str) -> bool:\n",
    "        data = []\n",
    "        for i in s:\n",
    "            if i == \"(\":\n",
    "                data.append(\")\")\n",
    "            elif i == \"[\":\n",
    "                data.append(\"]\")\n",
    "            elif i == \"{\":\n",
    "                data.append(\"}\")\n",
    "            else:\n",
    "                if data:\n",
    "                    p = data.pop()\n",
    "                    if i == p:\n",
    "                        continue\n",
    "                    else:\n",
    "                        return False\n",
    "                else:  # s=']'\n",
    "                    return False\n",
    "        if data:  # s='['\n",
    "            return False\n",
    "        else:\n",
    "            return True"
   ]
  },
  {
   "cell_type": "markdown",
   "metadata": {},
   "source": [
    "# 150. Evaluate Reverse Polish Notation"
   ]
  },
  {
   "cell_type": "code",
   "execution_count": null,
   "metadata": {},
   "outputs": [],
   "source": [
    "class Solution:\n",
    "    def evalRPN(self, tokens: List[str]) -> int:\n",
    "        def operation(x1, x2, op):\n",
    "            if op == \"+\":\n",
    "                return x1 + x2\n",
    "            elif op == \"-\":\n",
    "                return x1 - x2\n",
    "            elif op == \"*\":\n",
    "                return x1 * x2\n",
    "            elif op == \"/\":\n",
    "                return int(x1 / x2)\n",
    "\n",
    "        ops = [\"+\", \"-\", \"*\", \"/\"]\n",
    "        data = []\n",
    "        for t in tokens:\n",
    "            if t not in ops:\n",
    "                data.append(int(t))\n",
    "            elif t in ops:\n",
    "                p2 = data.pop()\n",
    "                p1 = data.pop()\n",
    "                data.append(operation(p1, p2, t))\n",
    "        return data[0]"
   ]
  },
  {
   "cell_type": "markdown",
   "metadata": {},
   "source": [
    "# 739. Daily Temperatures"
   ]
  },
  {
   "cell_type": "code",
   "execution_count": null,
   "metadata": {},
   "outputs": [],
   "source": [
    "# 用栈记录的是list中元素的index，而不是list中元素值本身。后面在操作stack时，操作的都是index，\n",
    "class Solution:\n",
    "    def dailyTemperatures(self, T: List[int]) -> List[int]:\n",
    "        index = []  # 记录索引而不是数据\n",
    "        helper = [0] * len(T)\n",
    "        for i, t in enumerate(T):  # enumerate\n",
    "            while index != [] and t > T[index[-1]]:\n",
    "                p = index.pop()\n",
    "                helper[p] = i - p\n",
    "            #             if index == [] or t <= T[index[-1]]:\n",
    "            index.append(i)\n",
    "        return helper"
   ]
  },
  {
   "cell_type": "code",
   "execution_count": null,
   "metadata": {},
   "outputs": [],
   "source": [
    "class Solution:\n",
    "    def dailyTemperatures(self, T: List[int]) -> List[int]:\n",
    "        result = [0] * len(T)\n",
    "        for i in range(len(T)):\n",
    "            for j in range(i + 1, len(T)):\n",
    "                if T[j] > T[i]:\n",
    "                    result[i] = j - i\n",
    "                    break\n",
    "        return result"
   ]
  },
  {
   "cell_type": "markdown",
   "metadata": {},
   "source": [
    "下一个最大值的索引或者值"
   ]
  },
  {
   "cell_type": "markdown",
   "metadata": {},
   "source": [
    "# 496. Next Greater Element I"
   ]
  },
  {
   "cell_type": "code",
   "execution_count": null,
   "metadata": {},
   "outputs": [],
   "source": [
    "# 单调栈\n",
    "# 我们可以忽略数组 nums1，先对将 nums2 中的每一个元素，求出其下一个更大的元素。随后对于将这些答案放入哈希映射（HashMap）中，再遍历数组 nums1，并直接找出答案。对于 nums2，我们可以使用单调栈来解决这个问题。\n",
    "class Solution:\n",
    "    def nextGreaterElement(self, nums1: List[int], nums2: List[int]) -> List[int]:\n",
    "        data = []  # 记录数据\n",
    "        mapping = {}\n",
    "        for num in nums2:  # 先忽略nums1\n",
    "            while data and num > data[-1]:\n",
    "                p = data.pop()\n",
    "                mapping[p] = num\n",
    "            if data == [] or num <= data[-1]:\n",
    "                data.append(num)\n",
    "        for d in data:\n",
    "            mapping[d] = -1\n",
    "        return [mapping[num] for num in nums1]"
   ]
  },
  {
   "cell_type": "code",
   "execution_count": null,
   "metadata": {},
   "outputs": [],
   "source": [
    "# 遍历相等数字后面的所有数字\n",
    "class Solution:\n",
    "    def nextGreaterElement(self, nums1: List[int], nums2: List[int]) -> List[int]:\n",
    "        result = [-1] * len(nums1)\n",
    "        for i in range(len(nums1)):\n",
    "            flag = 0\n",
    "            for j in range(len(nums2)):\n",
    "                if nums2[j] == nums1[i]:\n",
    "                    flag = 1\n",
    "                    continue\n",
    "                if flag:\n",
    "                    if nums2[j] > nums1[i]:\n",
    "                        result[i] = nums2[j]\n",
    "                        break\n",
    "        return result"
   ]
  },
  {
   "cell_type": "markdown",
   "metadata": {},
   "source": [
    "# 503. Next Greater Element II"
   ]
  },
  {
   "cell_type": "code",
   "execution_count": null,
   "metadata": {},
   "outputs": [],
   "source": [
    "class Solution:\n",
    "    def nextGreaterElements(self, nums: List[int]) -> List[int]:\n",
    "        result = [-1] * len(nums)\n",
    "        index = []\n",
    "        for i, num in enumerate(nums):\n",
    "            while index and num > nums[index[-1]]:\n",
    "                result[index[-1]] = num\n",
    "                index.pop()\n",
    "            if index == [] or num <= nums[index[-1]]:\n",
    "                index.append(i)\n",
    "        if index:\n",
    "            for i, num in enumerate(nums):\n",
    "                while index and num > nums[index[-1]]:\n",
    "                    result[index[-1]] = num\n",
    "                    index.pop()\n",
    "                if index == []:\n",
    "                    break\n",
    "        return result"
   ]
  }
 ],
 "metadata": {
  "kernelspec": {
   "display_name": "Python 3.7.4 64-bit ('base': conda)",
   "language": "python",
   "name": "python37464bitbaseconda9539b829f9fa44b5883688ff72a818b8"
  },
  "language_info": {
   "codemirror_mode": {
    "name": "ipython",
    "version": 3
   },
   "file_extension": ".py",
   "mimetype": "text/x-python",
   "name": "python",
   "nbconvert_exporter": "python",
   "pygments_lexer": "ipython3",
   "version": "3.7.4"
  }
 },
 "nbformat": 4,
 "nbformat_minor": 4
}
